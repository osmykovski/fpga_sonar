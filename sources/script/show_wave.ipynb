{
 "cells": [
  {
   "cell_type": "markdown",
   "id": "05ed0b6d",
   "metadata": {},
   "source": [
    "# Waveform display\n",
    "\n",
    "The code below receives the data from a COM-port and displays it. Here we can see raw microphone data as well as the convolution result.\n",
    "\n",
    "First we need to import required libraries and open COM port."
   ]
  },
  {
   "cell_type": "code",
   "execution_count": 1,
   "id": "54abdc74",
   "metadata": {},
   "outputs": [],
   "source": [
    "import matplotlib.pyplot as plt\n",
    "import numpy as np\n",
    "import serial\n",
    "\n",
    "%matplotlib qt\n",
    "\n",
    "ser = serial.Serial(\"COM3\", 921600)\n",
    "\n",
    "# set up plots\n",
    "fig = plt.figure()\n",
    "ax = fig.add_subplot(111)\n",
    "line1, = ax.plot([], [])\n",
    "line2, = ax.plot([], [])\n",
    "line3, = ax.plot([], [])\n",
    "line4, = ax.plot([], [])"
   ]
  },
  {
   "cell_type": "markdown",
   "id": "32d782e6",
   "metadata": {},
   "source": [
    "## Show convolution output"
   ]
  },
  {
   "cell_type": "code",
   "execution_count": null,
   "id": "6e3308e8",
   "metadata": {},
   "outputs": [],
   "source": [
    "# length of the \"bit\" of the sequence\n",
    "# set this value multiplied by 4 in \"p_gen_set_pulse_len\" function in SDK project\n",
    "seq_len = 2\n",
    "line1.set_xdata(np.linspace(0, 255+(seq_len*13), 255+(seq_len*13))) \n",
    "line2.set_xdata(np.linspace(0, 255+(seq_len*13), 255+(seq_len*13)))\n",
    "line3.set_xdata(np.linspace(0, 255+(seq_len*13), 255+(seq_len*13)))\n",
    "line4.set_xdata(np.linspace(0, 255+(seq_len*13), 255+(seq_len*13)))\n",
    "\n",
    "# define convolution sequence\n",
    "pattern = np.array([[1] * seq_len if(int(i)==1) else [-1] * seq_len for i in bin(0x1f35)[2:]]).flatten()\n",
    "\n",
    "while True:\n",
    "    echo = []\n",
    "    # data receiving\n",
    "    for i in range(4):\n",
    "        idata = [int.from_bytes(ser.read(3), byteorder='big', signed=\"True\") for x in range(256)]\n",
    "        qdata = [int.from_bytes(ser.read(3), byteorder='big', signed=\"True\") for x in range(256)]\n",
    "\n",
    "        # convolution\n",
    "        micdata = list(map(lambda x: x[0]+(x[1]*1j), list(zip(idata, qdata))))\n",
    "        conv = np.convolve(micdata, pattern)\n",
    "\n",
    "        # convert to amplitude and phase\n",
    "        amp = [np.sqrt(x.imag**2 + x.real**2) for x in conv]\n",
    "        phase = [np.arctan(x.real/x.imag) for x in conv]\n",
    "\n",
    "        echo.append([amp, phase])\n",
    "\n",
    "    # display result\n",
    "    line1.set_ydata(echo[0][0])\n",
    "    line2.set_ydata(echo[1][0])\n",
    "    line3.set_ydata(echo[2][0])\n",
    "    line4.set_ydata(echo[3][0])\n",
    "    ax.relim()\n",
    "    ax.autoscale_view()\n",
    "    fig.canvas.draw()\n",
    "    fig.canvas.flush_events()"
   ]
  },
  {
   "cell_type": "markdown",
   "id": "cba3fa83",
   "metadata": {},
   "source": [
    "## Show raw output"
   ]
  },
  {
   "cell_type": "code",
   "execution_count": null,
   "id": "50a6a0fe",
   "metadata": {},
   "outputs": [],
   "source": [
    "line1.set_xdata(np.linspace(0, 256, 256))\n",
    "line2.set_xdata(np.linspace(0, 256, 256))\n",
    "line3.set_xdata(np.linspace(0, 256, 256))\n",
    "line4.set_xdata(np.linspace(0, 256, 256))\n",
    "\n",
    "while True:\n",
    "    echo = []\n",
    "    # data receiving\n",
    "    for i in range(4):\n",
    "        idata = [int.from_bytes(ser.read(3), byteorder='big', signed=\"True\") for x in range(256)]\n",
    "        qdata = [int.from_bytes(ser.read(3), byteorder='big', signed=\"True\") for x in range(256)]\n",
    "\n",
    "        echo.append([idata, qdata])\n",
    "\n",
    "    # display result\n",
    "    line1.set_ydata(echo[0][0])\n",
    "    line2.set_ydata(echo[1][0])\n",
    "    line3.set_ydata(echo[2][0])\n",
    "    line4.set_ydata(echo[3][0])\n",
    "    ax.relim()\n",
    "    ax.autoscale_view()\n",
    "    fig.canvas.draw()\n",
    "    fig.canvas.flush_events()"
   ]
  },
  {
   "cell_type": "code",
   "execution_count": null,
   "id": "36bc2225",
   "metadata": {},
   "outputs": [],
   "source": []
  }
 ],
 "metadata": {
  "interpreter": {
   "hash": "570feb405e2e27c949193ac68f46852414290d515b0ba6e5d90d076ed2284471"
  },
  "kernelspec": {
   "display_name": "Python 3.8.0 64-bit",
   "language": "python",
   "name": "python3"
  },
  "language_info": {
   "codemirror_mode": {
    "name": "ipython",
    "version": 3
   },
   "file_extension": ".py",
   "mimetype": "text/x-python",
   "name": "python",
   "nbconvert_exporter": "python",
   "pygments_lexer": "ipython3",
   "version": "3.8.0"
  }
 },
 "nbformat": 4,
 "nbformat_minor": 5
}
